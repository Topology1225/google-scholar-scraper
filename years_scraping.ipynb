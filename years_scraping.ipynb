{
 "cells": [
  {
   "cell_type": "markdown",
   "metadata": {},
   "source": [
    "# キーワードに対してLegend論文とBuzz論文を表示\n",
    "## モチベーション\n",
    "初学者をターゲットに，読んでおくべきLegend論文と最近バズっているBuzz論文を提示する"
   ]
  },
  {
   "cell_type": "code",
   "execution_count": 1,
   "metadata": {},
   "outputs": [],
   "source": [
    "import re\n",
    "\n",
    "import numpy as np\n",
    "import pandas as pd\n",
    "import requests\n",
    "from bs4 import BeautifulSoup"
   ]
  },
  {
   "cell_type": "markdown",
   "metadata": {},
   "source": [
    "### キーワード, Buzz論文の年数範囲を設定\n",
    "`year_lo`で指定した年数から今までの論文をBuzz論文として探す"
   ]
  },
  {
   "cell_type": "code",
   "execution_count": 2,
   "metadata": {},
   "outputs": [],
   "source": [
    "keyword=\"machine learning\"\n",
    "keyword = keyword.replace(\" \", \"+\")\n",
    "number = 3\n",
    "year_lo = 2019"
   ]
  },
  {
   "cell_type": "markdown",
   "metadata": {},
   "source": [
    "### Legend論文を探索\n"
   ]
  },
  {
   "cell_type": "code",
   "execution_count": 3,
   "metadata": {},
   "outputs": [],
   "source": [
    "html_legend = requests.get(\n",
    "    \"https://scholar.google.co.jp/scholar?&hl=ja&as_sdt=0%2C5as_vis=1&num=\"\n",
    "    + str(number)\n",
    "    + \"&q=\"\n",
    "    + keyword\n",
    ").text\n",
    "html_year = requests.get(\n",
    "    \"https://scholar.google.co.jp/scholar?as_ylo=\"\n",
    "    + str(year_lo)\n",
    "    + \"&hl=ja&as_sdt=0%2C5as_vis=1&num=\"\n",
    "    + str(number)\n",
    "    + \"&q=\"\n",
    "    + keyword\n",
    ").text\n",
    "soupl = BeautifulSoup(html_legend, \"html.parser\")\n",
    "tags1 = soupl.find_all(\"h3\",{\"class\": \"gs_rt\"})\n",
    "tags2 = soupl.find_all(\"div\", {\"class\": \"gs_a\"})\n",
    "tags3 = soupl.find_all(text=re.compile(\"引用元\"))\n",
    "tags4 = soupl.find_all(\"div\", {\"class\": \"gs_fl\"})"
   ]
  },
  {
   "cell_type": "markdown",
   "metadata": {},
   "source": [
    "### 情報を整理して表示"
   ]
  },
  {
   "cell_type": "code",
   "execution_count": 4,
   "metadata": {},
   "outputs": [],
   "source": [
    "title_list = []\n",
    "id_list = []\n",
    "author_list = []\n",
    "year_list = []\n",
    "ci_num_list = []\n",
    "for i in range(number):\n",
    "    title = re.sub(r\"\\[(PDF|書籍|B|HTML)\\]\", \"\", tags1[i].text)\n",
    "    title = \"_\".join(title.split(\" \"))\n",
    "    if title[0] == \"_\":\n",
    "        title = title[1:]\n",
    "    title_list.append(title)\n",
    "    author = tags2[i].text\n",
    "    year = re.sub(r\"\\D\", \"\", author)\n",
    "    author = re.sub(r'-.*','', author)\n",
    "    year_list.append(year[0:4])\n",
    "    author = re.sub(r\"\\d\", \"\", author)\n",
    "    author_list.append(author)\n",
    "    ci_num_list.append(tags3[i].replace(\"引用元\", \"\"))\n",
    "    p_id = re.search('cites=[0-9]*&|amp;d=[0-9]*&', str(tags4[i * 2]))\n",
    "    id_list.append(re.sub(r'\\D', '', p_id.group(0)))"
   ]
  },
  {
   "cell_type": "code",
   "execution_count": 5,
   "metadata": {},
   "outputs": [
    {
     "name": "stdout",
     "output_type": "stream",
     "text": [
      "Legend Papers\n",
      "--------------------------------------------------\n",
      "Title:  Machine_learning\n",
      "Author:  D Michie, DJ Spiegelhalter… \n",
      "Published  year:  1994\n",
      "Number of　citation:   4095\n",
      "Paper ID:  15792719233775414370\n",
      "--------------------------------------------------\n",
      "--------------------------------------------------\n",
      "Title:  Machine_learning:_Trends,_perspectives,_and_prospects\n",
      "Author:  MI Jordan, TM Mitchell \n",
      "Published  year:  2015\n",
      "Number of　citation:   2220\n",
      "Paper ID:  10883068066968164261\n",
      "--------------------------------------------------\n",
      "--------------------------------------------------\n",
      "Title:  Foundations_of_machine_learning\n",
      "Author:  M Mohri, A Rostamizadeh, A Talwalkar \n",
      "Published  year:  2018\n",
      "Number of　citation:   2634\n",
      "Paper ID:  12992542314861780001\n",
      "--------------------------------------------------\n"
     ]
    }
   ],
   "source": [
    "print(\"Legend Papers\")\n",
    "for i in range(number):\n",
    "    print('--------------------------------------------------')\n",
    "    print(\"Title: \",title_list[i])\n",
    "    print(\"Author: \",author_list[i])\n",
    "    print(\"Published  year: \", year_list[i])\n",
    "    print(\"Number of　citation: \", ci_num_list[i])\n",
    "    print(\"Paper ID: \", id_list[i])\n",
    "    print('--------------------------------------------------')"
   ]
  },
  {
   "cell_type": "markdown",
   "metadata": {},
   "source": [
    "### Buzz論文を探索, 情報整理, 表示"
   ]
  },
  {
   "cell_type": "code",
   "execution_count": 6,
   "metadata": {},
   "outputs": [],
   "source": [
    "soupy = BeautifulSoup(html_year, \"html.parser\")\n",
    "tags1 = soupy.find_all(\"h3\",{\"class\": \"gs_rt\"})\n",
    "tags2 = soupy.find_all(\"div\", {\"class\": \"gs_a\"})\n",
    "tags3 = soupy.find_all(text=re.compile(\"引用元\"))\n",
    "tags4 = soupy.find_all(\"div\", {\"class\": \"gs_fl\"})\n",
    "\n",
    "title_listy = []\n",
    "id_listy = []\n",
    "author_listy = []\n",
    "year_listy = []\n",
    "ci_num_listy = []\n",
    "for i in range(number):\n",
    "    title = re.sub(r\"\\[(PDF|書籍|B|HTML)\\]\", \"\", tags1[i].text)\n",
    "    title = \"_\".join(title.split(\" \"))\n",
    "    if title[0] == \"_\":\n",
    "        title = title[1:]\n",
    "    title_listy.append(title)\n",
    "    author = tags2[i].text\n",
    "    year = re.sub(r\"\\D\", \"\", author)\n",
    "    author = re.sub(r'-.*','', author)\n",
    "    year_listy.append(year[0:4])\n",
    "    author = re.sub(r\"\\d\", \"\", author)\n",
    "    author_listy.append(author)\n",
    "    ci_num_listy.append(tags3[i].replace(\"引用元\", \"\"))\n",
    "    p_id = re.search('cites=[0-9]*&|amp;d=[0-9]*&', str(tags4[i * 2]))\n",
    "    id_listy.append(re.sub(r'\\D', '', p_id.group(0)))"
   ]
  },
  {
   "cell_type": "code",
   "execution_count": 7,
   "metadata": {},
   "outputs": [
    {
     "name": "stdout",
     "output_type": "stream",
     "text": [
      "Buzz Papers\n",
      "--------------------------------------------------\n",
      "Title:  Machine_learning_and_the_physical_sciences\n",
      "Author:  G Carleo, I Cirac, K Cranmer, L Daudet, M Schuld… \n",
      "Published  year:  2019\n",
      "Number of　citation:   302\n",
      "Paper ID:  3129578775481411450\n",
      "--------------------------------------------------\n",
      "--------------------------------------------------\n",
      "Title:  Machine_learning_in_materials_science\n",
      "Author:  J Wei, X Chu, XY Sun, K Xu, HX Deng, J Chen, Z Wei… \n",
      "Published  year:  2019\n",
      "Number of　citation:   42\n",
      "Paper ID:  2920469230596362832\n",
      "--------------------------------------------------\n",
      "--------------------------------------------------\n",
      "Title:  Interpretable_Machine_Learning\n",
      "Author:  C Molnar \n",
      "Published  year:  2020\n",
      "Number of　citation:   329\n",
      "Paper ID:  18424866663209148682\n",
      "--------------------------------------------------\n"
     ]
    }
   ],
   "source": [
    "print(\"Buzz Papers\")\n",
    "for i in range(number):\n",
    "    print('--------------------------------------------------')\n",
    "    print(\"Title: \",title_listy[i])\n",
    "    print(\"Author: \",author_listy[i])\n",
    "    print(\"Published  year: \", year_listy[i])\n",
    "    print(\"Number of　citation: \", ci_num_listy[i])\n",
    "    print(\"Paper ID: \", id_listy[i])\n",
    "    print('--------------------------------------------------')"
   ]
  }
 ],
 "metadata": {
  "kernelspec": {
   "display_name": "Python 3",
   "language": "python",
   "name": "python3"
  },
  "language_info": {
   "codemirror_mode": {
    "name": "ipython",
    "version": 3
   },
   "file_extension": ".py",
   "mimetype": "text/x-python",
   "name": "python",
   "nbconvert_exporter": "python",
   "pygments_lexer": "ipython3",
   "version": "3.8.0"
  }
 },
 "nbformat": 4,
 "nbformat_minor": 4
}
